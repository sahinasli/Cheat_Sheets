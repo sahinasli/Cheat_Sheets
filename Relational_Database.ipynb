{
 "cells": [
  {
   "cell_type": "markdown",
   "id": "2d24c37a-731a-408f-adb5-58034d974bd2",
   "metadata": {},
   "source": [
    "\n",
    "Bu makalenin 1/4 bölümünde, İlişkisel Veritabanı Modelinin temellerini anlama sürecinde adımlar atacağız. Bölüm 2, SQL'i anlama konusundaki öğrenme yolumun bir parçası olarak MySQL kullanarak bir veritabanını sorgulamaya ayrılmıştır.\n",
    "\n",
    "Okulda genellikle ana veri kaynağı olarak EXCEL (devlet veri portallarından veya akademik kaynaklardan indirilen elektronik tablo) ve veri analizi için SPSS veya STATA gibi araçları kullanarak çalışıyoruz. Yıllar geçtikçe veri bilimini kendi kendime öğreniyorum ve tek bir e-tabloda depolanan verilerle çalışıyorum. Ancak iş analitiği açısından bakıldığında bambaşka bir dünyaya giriyoruz. İhtiyacımız olan çok büyük miktarda veri veritabanlarında bulunur.\n",
    "\n",
    "Veritabanları hakkında konuştuğumuzda, büyük miktarda veri içerdiğinden tamamen farklı bir tablo ortaya çıkıyor ve bu noktada SQL gerekli bir araç haline geliyor ve iş/ekonomik bir altyapıdan geldiğim için kendimi onlarla ilişkilendirilen bazı terminolojileri anlamakta zorlanırken buldum.\n",
    "\n",
    "Veritabanının ekosistemi İlişkisel Model, Veri Normalleştirme, Varlık İlişki Diyagramı vb. kavramları içerir. Öğrenme sürecimin bir parçası olarak, bu blogda öncelikle bazı temel veritabanı kavramlarına çok fazla ayrıntıya girmeden bakacağım, ancak veritabanının ne olduğunu ve SQL ile ilişkisini anlamak için yeterince önemli. Başka bir blogda bu kavramların pratikte anlaşılması amacıyla bir veri tabanı kullanacağım.\n",
    "\n",
    "İlişkisel Veri Modelinde veritabanının temel ilkelerini anlama\n",
    "\n",
    "Dijital çağ birbiriyle ilişkili üç sonucu beraberinde getirdi: elektronik cihazların hızlı büyümesi, verilerin muazzam büyümesi ve verileri analiz etmek için hızla gelişen yöntemler.\n",
    "\n",
    "Veriler her işletme için vazgeçilmez hale geldi ve hemen hemen her kuruluşta veriler çeşitli kaynaklardan toplanıyor. Örneğin, bir e-ticaret web sitesi perspektifinden bakıldığında veriler iki ana bileşene ayrılabilir: bilgileri görüntüleyen ve toplayan bir ön uç ve bilgileri depolamak için bir arka uç.\n",
    "\n",
    "Pek çok kişi veritabanı teknolojisi hakkında pek bir şey bilmiyor (ben de dahil). Genellikle veri tutarsızlığına yol açan bir EXCEL elektronik tablosu kullanırız. Elektronik tablo kullanımı küçük bir veri seti için ciddi bir sorun yaratmayabilir ancak büyük bir organizasyon için ciddi hatalara yol açabilir."
   ]
  },
  {
   "cell_type": "markdown",
   "id": "7469f406-800e-4a0d-8adc-09a763e1f8b7",
   "metadata": {},
   "source": [
    "Elektronik tablolarda sık karşılaşılan sorunlar şunlardır:\n",
    "(1) Gereksiz veriler üzerinde kontrol yok: Bazı kişiler/kuruluşlar sıklıkla\n",
    "kolaylık sağlamak için yedek veriler. Bu veri fazlalığı,\n",
    "veri seti tutarsız.\n",
    "(2)Veri bütünlüğünün ihlali: Veri bütünlüğü,\n",
    "depolanmış veri.\n",
    "Öğrenci verilerini depolayan iki ayrı elektronik tablo dosyamızın olduğunu varsayalım:"
   ]
  },
  {
   "cell_type": "markdown",
   "id": "81febaff-9f95-4c8d-bab7-9cc9b38cecac",
   "metadata": {},
   "source": [
    "Şekil 2'deki Sınıf Listesi tablosuna bir göz atın. 1: 4567 öğrenci kimlik numarasına sahip Öğrenci Mary Browm birden fazla kez saklanmaktadır. Buna veri yedekliliği denir, bazı kişiler için veri erişimini kolaylaştırabilir ancak zararlı da olabilir. Örneğin, Mary Browm adını veya ana dalını değiştirirse, sistemde depolanan tüm adların ve ana dalın tamamen değiştirilmesi gerekir.\n",
    "\n",
    "Küçük veri sistemleri için çözülmesi daha kolay olabilir. Ancak veri sistemi çok büyük olduğunda, tüm gereksiz verilerde değişiklik yapmak imkansız olmasa da zordur. Artıklık sorununu çözmeye çalışmak sonucunda tüm veri seti bozulabilir.\n",
    "\n",
    "Alex Wilson'ın MKT211'de not aldığını da görüyoruz ancak Öğrenci Kadrosu tablosunda Alex Wilson'ı bulamıyoruz. Bu, iki listenin tutarlı olmadığı anlamına gelir. Kuralları uygulayacak veri bütünlüğü kontrolümüz varsa, örneğin “Bir öğrenci kayıt yaptırmadan ve öğrenim ücretini ödemeden not alamaz” gibi bir veri bütünlüğünün bu şekilde ihlal edilmesini önlemiş oluruz.\n",
    "\n",
    "\n",
    "bir örnek daha\n",
    "Eğer bir müşteri veritabanı tablosunda, siparişlerin işlem tarihleri için ayrılmış bir sütun varsa ve bu sütun çoğunlukla boş ise, bu gereksiz bir veri fazlalığı olabilir. Bu durumda, işlem tarihlerini siparişin kendisiyle ilişkilendirerek ayrı bir tablo oluşturmak daha temiz ve düzenli bir veri yapısı sağlayabilir.\n",
    "\n",
    "Bir mali tablo çalışma sayfasında, toplam satış geliri hesaplamak için bir formül kullanılıyorsa, bu formülün hücre referanslarının doğru olduğundan ve uygun bir şekilde kapsadığından emin olun. Ayrıca, formülün her güncellemeden sonra doğru sonuçları ürettiğinden emin olmak için test edin.\n",
    "\n",
    "Bu sorunları önlemek için veritabanı teknolojisi uygulanmalıdır. Veritabanı, ilgili verilerin organize bir koleksiyonudur. Düzenli bir koleksiyondur çünkü bir veritabanındaki tüm veriler tanımlanır ve birbiriyle ilişkilidir.\n",
    "\n",
    "Zaman içerisinde farklı veritabanları türleri ortaya çıkmıştır: Hiyerarşik Veritabanı, Ağ Veritabanı, İlişkisel Veritabanı, NoSQL Veritabanları vb. Veritabanları bir tasarım modelini takip eder ve en popüler olanı Edgar F. Codd tarafından tanıtılan İlişkisel Modeldir.\n",
    "----------------------------------------------------------------------------------------------------------------------------------------\n",
    "Veritabanlarına ilişkin İlişkisel Modelin yapısı, tablolar adı verilen ve onlara bir ilişkiler bütünü olarak atıfta bulunan bir kavramla başlar.\n",
    "\n",
    "İlişkisel Modelde veriler, Birincil Anahtar ve Yabancı Anahtar adı verilen özel anahtar alanları aracılığıyla birbiriyle ilişkili iki boyutlu bir tablo veya birden fazla tablo halinde depolanır. Gayri resmi olarak her ilişki, sütunlar ve satırlardan oluşan bir tabloya benzer. Resmi ilişkisel model terminolojisinde, bir sütuna nitelik, bir satıra demet ve tabloya da ilişki adı verilir.\n",
    "\n",
    "Bundan önce, veritabanları ile elektronik tablolar arasındaki en önemli farklardan birinin, elektronik tabloların depolanan verilerin bütünlüğünü garanti etmemesi, veritabanlarının ise veri bütünlüğünü zorunlu kılmasıdır. Aşağıdaki kategoriler uygulanması gereken veri bütünlüğü türleridir:"
   ]
  },
  {
   "cell_type": "code",
   "execution_count": null,
   "id": "8f2d938f-f77d-4cfa-bccf-9c8e768ebbce",
   "metadata": {},
   "outputs": [],
   "source": [
    "Etki alanı bütünlüğü: türü, biçimi veya değer aralığını kısıtlayarak belirli bir öznitelik (sütun) için geçerli girişleri zorlar.\n",
    "Varlık bütünlüğü: Her demet (satır), boş olamayacak benzersiz bir birincil anahtara sahiptir. Bu sadece yinelenen satırların olmadığı anlamına gelir.\n",
    "Bilgi bütünlüğü: İkincil tablodaki her Yabancı Anahtarın ana tablodaki birincil anahtarla eşleştiği anlamına gelir.\n",
    "Veritabanlarının veri bütünlüğünü nasıl sağlayabileceğini soruyor olabilirsiniz.\n",
    "\n",
    "Anlaşılması gereken önemli bir kavram Normalleşmedir. Basit bir ifadeyle, bir veritabanını normalleştirmek onu şu şekilde tasarlamak anlamına gelir:\n",
    "\n",
    "1) Veri fazlalığını ortadan kaldırır\n",
    "\n",
    "2) Veri bütünlüğünü sağlayın\n",
    "\n",
    "Pratik bir örnek verelim:"
   ]
  },
  {
   "cell_type": "markdown",
   "id": "bb60ee5c-68d3-48de-aa95-d81ad9317e02",
   "metadata": {},
   "source": [
    "Şekil 2'de üç tablo için İlişkisel Veritabanı gösterilmektedir: Müşteri, Ürün ve Satın Alma tablosu.\n",
    "\n",
    "Her tablonun iki özelliği vardır: demetler (satırlar) ve nitelikler (sütunlar). Bir veri tabanındaki bir tanımlama grubu ile bir özelliğin kesişimine değer denir.\n",
    "\n",
    "Bir Nitelik: tablodaki her bir sütunu temsil eder ve bunlar bir ilişkiyi tanımlayan özelliklerdir. Örneğin yukarıdaki ilişki şemasından:\n",
    "\n",
    "Müşteri tablosu, ilişkinin üç özelliğe sahip varlık adıdır: Müşteri Kimliği, Müşteri Adı ve Adres.\n",
    "Ürün tablosu üç özelliğe sahip olan ilişkinin adıdır: Ürün Kimliği, Ad ve Fiyat\n",
    "Satın alma tablosu, dört özniteliğe sahip olan ilişkinin adıdır: İşlem Kimliği, Müşteri Kimliği, Ürün Kimliği ve Satın Alma tarihi.\n",
    "İlişki derecesi: İlişkide mevcut olan niteliklerin toplam sayısıdır.\n",
    "\n",
    "İlişki Şeması: İlişkinin adını ve niteliklerini temsil eder.\n",
    "\n",
    "Kardinalite: Tabloda mevcut olan temel etki alanından gelen değerlerin toplam sayısı olarak tanımlanır. Örneğin, yukarıdaki ilişki şemasından tüm tabloların her birinde 3 tuple bulunur.\n",
    "\n",
    "Nitelik alanı: verileri modellemek için kullanılan orijinal atomik değerler kümesidir. Bu, tablolardaki değerlerin tutarlı bir veri türüne sahip olması gerektiği anlamına gelir. İlişkisel tablonun kendisi özellikle, örneğin dize, tarih-saat gibi tanımlanmış bir veri tipini ve her bir öznitelikte görünebilecek değer türlerini tanımlayan bir sayıyı takip eder (bunlar olası bir değer alanıyla temsil edilir).\n",
    "\n",
    "Veri bütünlüğünü analiz etme açısından:\n",
    "\n",
    "Yukarıdaki şekil 2'ye bakıldığında, Müşteri tablosu ve Ürün tablosunun kimlikle tanımlanan benzersiz bir birincil anahtarı vardır. Veritabanı Yönetim Sistemleri bu tablolarda saklanan verilerin bütünlüğünü sağlayacaktır. Örneğin, müşteri tablosunda 24221 Müşteri Kimliği değeri zaten mevcut olduğundan, aşağıdaki 24221'i müşteri tablosuna ekleyemiyoruz. Bu kısıtlamaya Varlık Bütünlüğü denir."
   ]
  },
  {
   "cell_type": "markdown",
   "id": "c47950e8-d057-4cf3-9e9b-efeedbb53dfc",
   "metadata": {},
   "source": [
    "Farklı varlıklar hakkındaki bilgiler farklı tablolarda saklanır. Verilere erişmek için aralarında gezinmenin bir yoluna ihtiyacımız var. Burada Yabancı anahtar (FK) devreye giriyor. İlişkisel Veritabanındaki bir Yabancı anahtar (FK), üst veritabanındaki bir birincil anahtarla eşleşir. bununla birlikte, Satın Alma tablosuna bakarsak iki FK'yi tanımlayabiliriz: MüşteriKimliği ve ÜrünKimliği.\n",
    "\n",
    "TransactionID, Satın Alma tablosunun Birincil Anahtarıdır, Müşteri Kimliği, Müşteri tablosunun Birincil Anahtarıdır ve ProductID, Ürün tablosunun Birincil Anahtarıdır. Yabancı Anahtar mevcut bir ana anahtarla sınırlıdır; bu, Referans Bütünlüğü adı verilen bir kısıtlamadır.\n",
    "\n",
    "Bununla birlikte, İlişkisel Veritabanı Yönetim Sisteminin (RDBMS'ler) bazı yaygın örnekleri Oracle, MS SQL Server, IBM, MySQL, SQLite, Microsoft Access, PostgreSQL, MariaDB'dir.\n",
    "\n",
    "Her İlişkisel Veritabanı Yönetim Sistemini farklılaştıran nüanslara detaya girmeden (ki bu yazının amacı değil), SQL kavramları benzer olsa da Syntax veya Anahtar Kelimelerin uygulanmasının birinden diğerine oldukça farklı olduğunu söyleyebiliriz. bir diğer.\n",
    "\n",
    "Bununla birlikte, ortak olarak bir veritabanına erişimi kontrol etme ve saklanan verilerin gizliliğine ve bütünlüğüne dayanan veritabanı güvenliğini uygulama yeteneğine sahiptirler.\n",
    "\n",
    "Veritabanı RDBMS tarafından yönetildiği için veritabanlarına SQL adı verilen bir sorgulama dili ile erişilir.\n",
    "\n",
    "SQL, Veritabanı, tablolar, okuma/yazma ve bu tablolara erişme gibi nesneler oluşturarak ilişkisel veritabanını sorgulamamıza olanak tanıyan sözdizimini kullanarak İlişkisel Veritabanı Yönetim Sisteminde depolanan verilere bağlanmak veya bunlara erişmek için kullanılan bir dildir.\n"
   ]
  },
  {
   "cell_type": "markdown",
   "id": "fc0c370c-31cf-469a-837a-eac041135c4c",
   "metadata": {},
   "source": [
    "Örneğin, müşteri bilgileri, çalışan bilgileri, satış bilgileri vb. depolayan veri tabanlarına sahip bir şirkette veri analisti kullanıcısı olarak çalışıyorsak, tam olarak ne bilmek istediğimizi soran bir SQL sorgusu (soru) oluşturabiliriz. bu veriler. Aşağıdaki şekil bize temsili bir örnek göstermektedir:"
   ]
  },
  {
   "cell_type": "markdown",
   "id": "c697f272-025f-4cf6-a2ca-c286b87aa3ea",
   "metadata": {},
   "source": [
    "Veritabanı Yönetim Sistemi (DMBS), kullanıcıların bir veritabanı oluşturmasına ve sürdürmesine olanak tanıyan, çeşitli kullanıcılar ve uygulamalar arasında veritabanlarının tanımlanması, oluşturulması, işlenmesi ve paylaşılması sürecini kolaylaştıran bilgisayarlı bir sistemdir.\n",
    "\n",
    "İlişkisel Veritabanlarıyla etkileşime geçmek için standart SQL komutları CREATE, DROP, SELECT, INSERT, UPDATE ve DELETE'dir. Bu komutlar 2 alt kümeye ayrılabilir:\n",
    "\n",
    "Veri Tanımlama Dili (DDL), veritabanının yapısını tanımlamak, tablolar oluşturmak, bunların anahtarlarını, veri türlerini, veritabanında saklanacak verilerin kısıtlamalarını vb. belirtmek için kullanılan ifadelerdir. Anahtar, varlık bütünlüğü ve referans bütünlüğü kısıtlamaları Veri Tanımlama Dili tarafından belirtilir.\n",
    "\n",
    "Veri İşleme Dili (DML), belirli verileri çıkarmak için veritabanını sorgulamak (okumak), veritabanını güncellemek, yeni veriler eklemek ve veritabanından verileri silmek gibi işlevleri içerir; böylece bu dört işlev toplu olarak CRUD olarak sevgiyle kısaltılır. Oluşturulan kelime genellikle ekleme yerine kullanılır.\n",
    "\n",
    "Çözüm\n",
    "İlişkisel Veritabanı açısından bakıldığında şu sonuca varabiliriz:\n",
    "\n",
    "1. Varlık bütünlüğüne izin vermek için her tabloda Null olamayacak en az bir birincil anahtar bulunmalıdır.\n",
    "2. Veri modeli, belirli bir veritabanındaki gereksiz verileri azaltmamıza izin vermek için veritabanı normalleştirme formlarını (1NF, 2NF, 3NF formunu duymuş olabilirsiniz) takip edecek şekilde tasarlanmalıdır.\n",
    "3. Referans bütünlüğü Yabancı Anahtar yardımıyla korunmalıdır\n",
    "4. Tablo tasarımı, anlamsal bütünlük olarak da adlandırılan alan bütünlüğüne uygun şekilde düzenlenmelidir. Tablolardaki değerlerin tutarlı veri türüne sahip olması gerektiği anlamına gelir.\n",
    "5. Bir veritabanının bire bir ilişkiye mi, bire çok ilişkiye mi yoksa çoktan çoğa ilişkiye mi sahip olduğunu belirleyin.\n",
    "6. İlişkisel veritabanı şemasında belirtilen bütünlük kısıtlamaları asla ihlal edilmemelidir.\n",
    "Özet\n",
    "Bu yazıda İlişkisel Veritabanının bazı teorik unsurlarını ele aldık. Veritabanı ile elektronik tablo arasındaki farkı ve birincil anahtar ile yabancı anahtarın önemli kavramlarını açıklıyoruz.\n",
    "\n",
    "Bir sonraki makale pratikteki temel SQL sorgusunu anlatacaktır. Okuduğunuz için teşekkürler, umarım beğenmişsinizdir ve herhangi bir öneriniz varsa lütfen benimle iletişime geçin. Bir sonraki blogda görüşmek üzere."
   ]
  }
 ],
 "metadata": {
  "kernelspec": {
   "display_name": "Python 3 (ipykernel)",
   "language": "python",
   "name": "python3"
  },
  "language_info": {
   "codemirror_mode": {
    "name": "ipython",
    "version": 3
   },
   "file_extension": ".py",
   "mimetype": "text/x-python",
   "name": "python",
   "nbconvert_exporter": "python",
   "pygments_lexer": "ipython3",
   "version": "3.11.7"
  }
 },
 "nbformat": 4,
 "nbformat_minor": 5
}
